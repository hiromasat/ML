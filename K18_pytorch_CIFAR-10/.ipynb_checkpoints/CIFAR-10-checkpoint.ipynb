{
 "cells": [
  {
   "cell_type": "markdown",
   "metadata": {
    "colab_type": "text",
    "id": "VE_JdwxT5px8"
   },
   "source": [
    "## CIFAR-10を用いた画像分類  \n"
   ]
  },
  {
   "cell_type": "markdown",
   "metadata": {
    "colab_type": "text",
    "id": "UAUBIIZFGj1k"
   },
   "source": [
    "## CIFAR-10 画像分類  \n",
    "飛行機、自動車、鳥、猫など (合計10個カテゴリ)\n",
    "\n",
    "それぞれの訓練用5000枚、テスト用1000枚   \n",
    "合計 6000枚 x 10 = 60000枚のデータセット  \n",
    "\n",
    "画像 32 x 32 ピクセル  \n",
    "RGBの3チャンネル (3, 32, 32)  "
   ]
  },
  {
   "cell_type": "code",
   "execution_count": 0,
   "metadata": {
    "colab": {},
    "colab_type": "code",
    "collapsed": true,
    "id": "HGUOb_nY5pT1"
   },
   "outputs": [],
   "source": [
    "# モジュールの読み込み\n",
    "import torch\n",
    "import torchvision\n",
    "import torch.nn as nn\n",
    "import torch.nn.init as init\n",
    "import torch.optim as optim\n",
    "import torch.nn.functional as F\n",
    "import torchvision.transforms as transforms\n",
    "\n",
    "%matplotlib inline\n",
    "import numpy as np\n",
    "from matplotlib import pyplot as plt"
   ]
  },
  {
   "cell_type": "markdown",
   "metadata": {
    "colab_type": "text",
    "id": "7lNkyPs771ga"
   },
   "source": [
    "### データ処理の定義"
   ]
  },
  {
   "cell_type": "code",
   "execution_count": 0,
   "metadata": {
    "colab": {},
    "colab_type": "code",
    "collapsed": true,
    "id": "9f4I5azF2WBM"
   },
   "outputs": [],
   "source": [
    "# データ拡張あり(訓練データ)\n",
    "# 訓練データをLoadする場合に、データの処理を記述する。以下の処理はデータ拡張を行う処理である。\n",
    "transform_train= transforms.Compose([\n",
    "    transforms.RandomCrop(32, padding=4),\n",
    "    transforms.RandomHorizontalFlip(),\n",
    "    transforms.ToTensor(),\n",
    "    transforms.Normalize((0.4914, 0.4822, 0.4465), (0.2023, 0.1994, 0.2010)),\n",
    "])\n",
    "\n",
    "# データ拡張なし(訓練データ)\n",
    "transform_train_non_aug= transforms.Compose([\n",
    "    transforms.ToTensor(),\n",
    "    transforms.Normalize((0.4914, 0.4822, 0.4465), (0.2023, 0.1994, 0.2010)),\n",
    "])\n",
    "\n",
    "# テストデータ\n",
    "# 訓練データと同様に正規化を行う。ただしデータ拡張は実施しない。\n",
    "transform_test = transforms.Compose([\n",
    "    transforms.ToTensor(),\n",
    "    transforms.Normalize((0.4914, 0.4822, 0.4465), (0.2023, 0.1994, 0.2010)),\n",
    "])"
   ]
  },
  {
   "cell_type": "markdown",
   "metadata": {
    "colab_type": "text",
    "id": "GiVuZmM37R3Q"
   },
   "source": [
    "### データセットのダウンロードとロード  \n",
    "学習に用いるデータについて画像拡張のあり/なしを以下のコードにて洗濯する。\n"
   ]
  },
  {
   "cell_type": "code",
   "execution_count": 3,
   "metadata": {
    "colab": {
     "base_uri": "https://localhost:8080/",
     "height": 68
    },
    "colab_type": "code",
    "executionInfo": {
     "elapsed": 7388,
     "status": "ok",
     "timestamp": 1563063709541,
     "user": {
      "displayName": "田淵大将",
      "photoUrl": "https://lh3.googleusercontent.com/-_OwEURBwaMs/AAAAAAAAAAI/AAAAAAABc_Y/a2n0fyFpSjM/s64/photo.jpg",
      "userId": "01937725829077514098"
     },
     "user_tz": -540
    },
    "id": "ivJ5PvL_5pXn",
    "outputId": "aab5a37c-f020-43ca-ee06-152990e5a4f5"
   },
   "outputs": [
    {
     "name": "stderr",
     "output_type": "stream",
     "text": [
      "\r",
      "0it [00:00, ?it/s]"
     ]
    },
    {
     "name": "stdout",
     "output_type": "stream",
     "text": [
      "Downloading https://www.cs.toronto.edu/~kriz/cifar-10-python.tar.gz to ../data/cifar-10-python.tar.gz\n"
     ]
    },
    {
     "name": "stderr",
     "output_type": "stream",
     "text": [
      "170500096it [00:02, 69865897.80it/s]                               \n"
     ]
    },
    {
     "name": "stdout",
     "output_type": "stream",
     "text": [
      "Files already downloaded and verified\n"
     ]
    }
   ],
   "source": [
    "# 画像拡張あり\n",
    "train_dataset = torchvision.datasets.CIFAR10(root='../data', train=True, transform=transform_train, download=True )\n",
    "\n",
    "# 画像拡張なし(ありを選ぶ場合には、以下の行をコメントアウトする)\n",
    "# train_dataset = torchvision.datasets.CIFAR10(root='../data', train=True, transform=transform_train_non_aug, download=True )\n",
    "\n",
    "train_loader = torch.utils.data.DataLoader(dataset=train_dataset, batch_size=32, shuffle=True, num_workers=2)\n",
    "\n",
    "test_dataset = torchvision.datasets.CIFAR10(root='../data', train=False, transform=transform_test, download=True )\n",
    "test_loader = torch.utils.data.DataLoader(dataset=test_dataset, batch_size=32, shuffle=False, num_workers=2)"
   ]
  },
  {
   "cell_type": "code",
   "execution_count": 4,
   "metadata": {
    "colab": {
     "base_uri": "https://localhost:8080/",
     "height": 51
    },
    "colab_type": "code",
    "executionInfo": {
     "elapsed": 8910,
     "status": "ok",
     "timestamp": 1563063711076,
     "user": {
      "displayName": "田淵大将",
      "photoUrl": "https://lh3.googleusercontent.com/-_OwEURBwaMs/AAAAAAAAAAI/AAAAAAABc_Y/a2n0fyFpSjM/s64/photo.jpg",
      "userId": "01937725829077514098"
     },
     "user_tz": -540
    },
    "id": "fGe5gvV8HABq",
    "outputId": "6e25f6f6-48b7-41f5-e65a-b66d36901c94"
   },
   "outputs": [
    {
     "name": "stdout",
     "output_type": "stream",
     "text": [
      "batches.meta  data_batch_2  data_batch_4  readme.html\n",
      "data_batch_1  data_batch_3  data_batch_5  test_batch\n"
     ]
    }
   ],
   "source": [
    "!ls ../data/cifar-10-batches-py/"
   ]
  },
  {
   "cell_type": "markdown",
   "metadata": {
    "colab_type": "text",
    "id": "tUS9uwcz5DpS"
   },
   "source": [
    "ダウンロード後回答したファイルは以下のようになっている。\n",
    "\n",
    "batches.meta - ラベル名のリスト  \n",
    "data_batch_1 - 訓練画像（1万枚）  \n",
    "data_batch_2 - 訓練画像（1万枚）  \n",
    "data_batch_3 - 訓練画像（1万枚）  \n",
    "data_batch_4 - 訓練画像（1万枚）  \n",
    "data_batch_5 - 訓練画像（1万枚）  \n",
    "test_batch - テスト画像（1万枚） \n",
    "\n",
    "訓練画像は1万枚ずつ別のファイルになっている"
   ]
  },
  {
   "cell_type": "code",
   "execution_count": 5,
   "metadata": {
    "colab": {
     "base_uri": "https://localhost:8080/",
     "height": 901
    },
    "colab_type": "code",
    "executionInfo": {
     "elapsed": 9125,
     "status": "ok",
     "timestamp": 1563063711301,
     "user": {
      "displayName": "田淵大将",
      "photoUrl": "https://lh3.googleusercontent.com/-_OwEURBwaMs/AAAAAAAAAAI/AAAAAAABc_Y/a2n0fyFpSjM/s64/photo.jpg",
      "userId": "01937725829077514098"
     },
     "user_tz": -540
    },
    "id": "Ewav-yNX9KOW",
    "outputId": "f87b742c-b183-46c2-8422-69074a31b554"
   },
   "outputs": [
    {
     "name": "stdout",
     "output_type": "stream",
     "text": [
      "imageのサイズ torch.Size([3, 32, 32])\n",
      "\n",
      "訓練データの長さ: 2\n",
      "訓練データの表示:タプル（データ, 教師ラベル）\n",
      "訓練データの表示 (tensor([[[-2.4291, -2.4291, -2.4291,  ..., -2.4291, -2.4291, -2.4291],\n",
      "         [ 0.6338,  0.6531,  0.8276,  ..., -2.4291, -2.4291, -2.4291],\n",
      "         [ 0.1491,  0.1491,  0.1297,  ..., -2.4291, -2.4291, -2.4291],\n",
      "         ...,\n",
      "         [ 1.1765, -0.2192,  0.0328,  ..., -2.4291, -2.4291, -2.4291],\n",
      "         [ 0.2267, -1.4598, -0.6844,  ..., -2.4291, -2.4291, -2.4291],\n",
      "         [ 0.1104, -1.7700, -1.3047,  ..., -2.4291, -2.4291, -2.4291]],\n",
      "\n",
      "        [[-2.4183, -2.4183, -2.4183,  ..., -2.4183, -2.4183, -2.4183],\n",
      "         [ 0.1384,  0.1188,  0.2564,  ..., -2.4183, -2.4183, -2.4183],\n",
      "         [-0.5302, -0.5696, -0.6286,  ..., -2.4183, -2.4183, -2.4183],\n",
      "         ...,\n",
      "         [ 0.6301, -0.7072, -0.4319,  ..., -2.4183, -2.4183, -2.4183],\n",
      "         [-0.3532, -1.9463, -1.0612,  ..., -2.4183, -2.4183, -2.4183],\n",
      "         [-0.5696, -2.3199, -1.8086,  ..., -2.4183, -2.4183, -2.4183]],\n",
      "\n",
      "        [[-2.2214, -2.2214, -2.2214,  ..., -2.2214, -2.2214, -2.2214],\n",
      "         [-0.1923, -0.2313, -0.1143,  ..., -2.2214, -2.2214, -2.2214],\n",
      "         [-1.0508, -1.0898, -1.1873,  ..., -2.2214, -2.2214, -2.2214],\n",
      "         ...,\n",
      "         [-0.3094, -1.3239, -1.0703,  ..., -2.2214, -2.2214, -2.2214],\n",
      "         [-1.0508, -2.0068, -1.4410,  ..., -2.2214, -2.2214, -2.2214],\n",
      "         [-1.1093, -2.2214, -2.0068,  ..., -2.2214, -2.2214, -2.2214]]]), 6)\n",
      "\n",
      "image tensor([[[-2.4291, -2.4291, -2.4291,  ..., -2.4291, -2.4291, -2.4291],\n",
      "         [-2.4291, -2.4291, -2.4291,  ..., -2.4291, -2.4291, -2.4291],\n",
      "         [-2.4291, -2.4291,  0.4399,  ..., -0.5293, -1.1109, -1.4598],\n",
      "         ...,\n",
      "         [-2.4291, -2.4291, -1.0527,  ...,  0.1104,  0.4981,  0.8276],\n",
      "         [-2.4291, -2.4291, -1.7894,  ...,  0.5950,  0.9051,  1.1765],\n",
      "         [-2.4291, -2.4291, -1.4017,  ...,  1.1184,  1.2735,  1.4091]],\n",
      "\n",
      "        [[-2.4183, -2.4183, -2.4183,  ..., -2.4183, -2.4183, -2.4183],\n",
      "         [-2.4183, -2.4183, -2.4183,  ..., -2.4183, -2.4183, -2.4183],\n",
      "         [-2.4183, -2.4183,  0.0204,  ..., -0.9826, -1.3562, -1.4742],\n",
      "         ...,\n",
      "         [-2.4183, -2.4183, -1.4742,  ..., -0.6876, -0.2352, -0.0189],\n",
      "         [-2.4183, -2.4183, -2.0446,  ..., -0.0582,  0.3154,  0.4924],\n",
      "         [-2.4183, -2.4183, -1.7496,  ...,  0.4531,  0.6694,  0.7481]],\n",
      "\n",
      "        [[-2.2214, -2.2214, -2.2214,  ..., -2.2214, -2.2214, -2.2214],\n",
      "         [-2.2214, -2.2214, -2.2214,  ..., -2.2214, -2.2214, -2.2214],\n",
      "         [-2.2214, -2.2214, -0.2118,  ..., -1.2069, -1.4020, -1.3825],\n",
      "         ...,\n",
      "         [-2.2214, -2.2214, -1.7141,  ..., -1.5580, -1.5385, -1.8507],\n",
      "         [-2.2214, -2.2214, -2.0458,  ..., -1.7141, -1.6751, -1.7531],\n",
      "         [-2.2214, -2.2214, -1.8312,  ..., -1.5580, -1.6946, -1.7141]]])\n",
      "label 6\n"
     ]
    }
   ],
   "source": [
    "# ダウンロードしたデータの確認（訓練データ）\n",
    "image, label = train_dataset[0]\n",
    "\n",
    "# imageのサイズ\n",
    "print(\"imageのサイズ\", image.size())\n",
    "\n",
    "print()\n",
    "\n",
    "# 訓練データの長さ\n",
    "print('訓練データの長さ:', len(train_dataset[0]))\n",
    "\n",
    "print(\"訓練データの表示:タプル（データ, 教師ラベル）\")\n",
    "# 訓練データの表示　タプル（データ, 教師ラベル）\n",
    "print(\"訓練データの表示\", train_dataset[0])\n",
    "\n",
    "print()\n",
    "\n",
    "# imageの表示\n",
    "print(\"image\", image)\n",
    "\n",
    "# labelの表示\n",
    "print(\"label\", label)"
   ]
  },
  {
   "cell_type": "markdown",
   "metadata": {
    "colab_type": "text",
    "id": "4PWYsjE29_ss"
   },
   "source": [
    "(確認した結果)  \n",
    "train_dataset[0]は、要素を２つもったタプル  \n",
    "(画像データ([3,32,32]), ラベル)"
   ]
  },
  {
   "cell_type": "code",
   "execution_count": 6,
   "metadata": {
    "colab": {
     "base_uri": "https://localhost:8080/",
     "height": 850
    },
    "colab_type": "code",
    "executionInfo": {
     "elapsed": 9093,
     "status": "ok",
     "timestamp": 1563063711302,
     "user": {
      "displayName": "田淵大将",
      "photoUrl": "https://lh3.googleusercontent.com/-_OwEURBwaMs/AAAAAAAAAAI/AAAAAAABc_Y/a2n0fyFpSjM/s64/photo.jpg",
      "userId": "01937725829077514098"
     },
     "user_tz": -540
    },
    "id": "q3K5BU9F9Ngq",
    "outputId": "20241829-c774-4ce5-914e-d91c00dd0a34"
   },
   "outputs": [
    {
     "name": "stdout",
     "output_type": "stream",
     "text": [
      "(tensor([[[ 0.6338,  0.6531,  0.7694,  ...,  0.2267,  0.0134, -0.1804],\n",
      "         [ 0.5174,  0.4981,  0.6531,  ...,  0.2073, -0.0060, -0.1223],\n",
      "         [ 0.4981,  0.4981,  0.6338,  ...,  0.2654,  0.0910, -0.1029],\n",
      "         ...,\n",
      "         [-1.1109, -1.6149, -1.8281,  ..., -1.6924, -2.1771, -1.6537],\n",
      "         [-1.2466, -1.4792, -1.7506,  ..., -1.9251, -1.8669, -2.0414],\n",
      "         [-1.3823, -1.3435, -1.5567,  ..., -1.9638, -1.7700, -2.0220]],\n",
      "\n",
      "        [[-0.2156, -0.2352, -0.1369,  ..., -0.5499, -0.6286, -0.7466],\n",
      "         [-0.2156, -0.2549, -0.1762,  ..., -0.5499, -0.6286, -0.6876],\n",
      "         [-0.2549, -0.2746, -0.2352,  ..., -0.4909, -0.5499, -0.6679],\n",
      "         ...,\n",
      "         [ 0.0204, -0.4516, -0.6876,  ..., -0.5106, -1.1596, -0.7466],\n",
      "         [-0.1369, -0.4122, -0.7466,  ..., -0.8056, -0.8056, -1.1596],\n",
      "         [-0.3139, -0.3532, -0.6679,  ..., -0.9039, -0.7662, -1.1006]],\n",
      "\n",
      "        [[-1.2654, -1.3044, -1.2264,  ..., -1.5190, -1.5190, -1.5776],\n",
      "         [-1.2264, -1.4410, -1.3434,  ..., -1.6166, -1.5971, -1.5580],\n",
      "         [-1.3044, -1.5776, -1.5190,  ..., -1.5580, -1.5580, -1.5776],\n",
      "         ...,\n",
      "         [ 1.2319,  0.6661,  0.4515,  ...,  0.6271, -0.1143,  0.2564],\n",
      "         [ 1.0563,  0.6661,  0.3540,  ...,  0.3149,  0.2369, -0.1338],\n",
      "         [ 0.9003,  0.6856,  0.3540,  ...,  0.1979,  0.2954, -0.0753]]]), 3)\n",
      "len: 2\n",
      "tensor([[[ 0.6338,  0.6531,  0.7694,  ...,  0.2267,  0.0134, -0.1804],\n",
      "         [ 0.5174,  0.4981,  0.6531,  ...,  0.2073, -0.0060, -0.1223],\n",
      "         [ 0.4981,  0.4981,  0.6338,  ...,  0.2654,  0.0910, -0.1029],\n",
      "         ...,\n",
      "         [-1.1109, -1.6149, -1.8281,  ..., -1.6924, -2.1771, -1.6537],\n",
      "         [-1.2466, -1.4792, -1.7506,  ..., -1.9251, -1.8669, -2.0414],\n",
      "         [-1.3823, -1.3435, -1.5567,  ..., -1.9638, -1.7700, -2.0220]],\n",
      "\n",
      "        [[-0.2156, -0.2352, -0.1369,  ..., -0.5499, -0.6286, -0.7466],\n",
      "         [-0.2156, -0.2549, -0.1762,  ..., -0.5499, -0.6286, -0.6876],\n",
      "         [-0.2549, -0.2746, -0.2352,  ..., -0.4909, -0.5499, -0.6679],\n",
      "         ...,\n",
      "         [ 0.0204, -0.4516, -0.6876,  ..., -0.5106, -1.1596, -0.7466],\n",
      "         [-0.1369, -0.4122, -0.7466,  ..., -0.8056, -0.8056, -1.1596],\n",
      "         [-0.3139, -0.3532, -0.6679,  ..., -0.9039, -0.7662, -1.1006]],\n",
      "\n",
      "        [[-1.2654, -1.3044, -1.2264,  ..., -1.5190, -1.5190, -1.5776],\n",
      "         [-1.2264, -1.4410, -1.3434,  ..., -1.6166, -1.5971, -1.5580],\n",
      "         [-1.3044, -1.5776, -1.5190,  ..., -1.5580, -1.5580, -1.5776],\n",
      "         ...,\n",
      "         [ 1.2319,  0.6661,  0.4515,  ...,  0.6271, -0.1143,  0.2564],\n",
      "         [ 1.0563,  0.6661,  0.3540,  ...,  0.3149,  0.2369, -0.1338],\n",
      "         [ 0.9003,  0.6856,  0.3540,  ...,  0.1979,  0.2954, -0.0753]]])\n",
      "torch.Size([3, 32, 32])\n",
      "3\n"
     ]
    }
   ],
   "source": [
    "# ダウンロードしたデータの確認（テストデータ）\n",
    "image, label = test_dataset[0]\n",
    "print(test_dataset[0])\n",
    "print('len:', len(test_dataset[0]))\n",
    "print(image)\n",
    "print(image.size())\n",
    "print(label)"
   ]
  },
  {
   "cell_type": "markdown",
   "metadata": {
    "colab_type": "text",
    "id": "4eoo7Tqs-1_O"
   },
   "source": [
    "(確認した結果)  \n",
    "test_dataset[0]は、要素を２つもったタプル  \n",
    "(画像データ([3,32,32]), ラベル)"
   ]
  },
  {
   "cell_type": "code",
   "execution_count": 7,
   "metadata": {
    "colab": {
     "base_uri": "https://localhost:8080/",
     "height": 51
    },
    "colab_type": "code",
    "executionInfo": {
     "elapsed": 9080,
     "status": "ok",
     "timestamp": 1563063711302,
     "user": {
      "displayName": "田淵大将",
      "photoUrl": "https://lh3.googleusercontent.com/-_OwEURBwaMs/AAAAAAAAAAI/AAAAAAABc_Y/a2n0fyFpSjM/s64/photo.jpg",
      "userId": "01937725829077514098"
     },
     "user_tz": -540
    },
    "id": "Mqw4ZLJAc9T-",
    "outputId": "2a960514-e3ca-404c-f9b4-06b95e72f2e4"
   },
   "outputs": [
    {
     "name": "stdout",
     "output_type": "stream",
     "text": [
      "train_dataset: 50000\n",
      "test_dataset: 10000\n"
     ]
    }
   ],
   "source": [
    "print('train_dataset:', len(train_dataset))\n",
    "print('test_dataset:', len(test_dataset))"
   ]
  },
  {
   "cell_type": "markdown",
   "metadata": {
    "colab_type": "text",
    "id": "80fDXRNraf0s"
   },
   "source": [
    "### 画像の表示"
   ]
  },
  {
   "cell_type": "code",
   "execution_count": 8,
   "metadata": {
    "colab": {
     "base_uri": "https://localhost:8080/",
     "height": 155
    },
    "colab_type": "code",
    "executionInfo": {
     "elapsed": 9420,
     "status": "ok",
     "timestamp": 1563063711654,
     "user": {
      "displayName": "田淵大将",
      "photoUrl": "https://lh3.googleusercontent.com/-_OwEURBwaMs/AAAAAAAAAAI/AAAAAAABc_Y/a2n0fyFpSjM/s64/photo.jpg",
      "userId": "01937725829077514098"
     },
     "user_tz": -540
    },
    "id": "c8sHeQAdXVfX",
    "outputId": "23f617ef-87aa-4203-93d5-bb1330fe64ff"
   },
   "outputs": [
    {
     "name": "stderr",
     "output_type": "stream",
     "text": [
      "Clipping input data to the valid range for imshow with RGB data ([0..1] for floats or [0..255] for integers).\n"
     ]
    },
    {
     "name": "stdout",
     "output_type": "stream",
     "text": [
      " deer horse   dog truck  deer\n"
     ]
    },
    {
     "data": {
      "image/png": "[encoded data removed]",
      "text/plain": [
       "<Figure size 432x288 with 1 Axes>"
      ]
     },
     "metadata": {
      "tags": []
     },
     "output_type": "display_data"
    }
   ],
   "source": [
    "# 表示用にデータをロードする\n",
    "img_loader = torch.utils.data.DataLoader(train_dataset, batch_size=5, shuffle=True, num_workers=2)\n",
    "classes_labels = ('plane', 'car', 'bird', 'cat', 'deer', 'dog', 'frog', 'horse', 'ship', 'truck')\n",
    "\n",
    "# 画像の表示\n",
    "def imshow(img):\n",
    "    img = img / 2 + 0.5     # unnormalize\n",
    "    npimg = img.numpy()\n",
    "    plt.imshow(np.transpose(npimg, (1, 2, 0)))\n",
    "    return  \n",
    "\n",
    "# 訓練用のデータをランダムに得る\n",
    "dataiter = iter(img_loader)\n",
    "images, labels = dataiter.next()\n",
    " \n",
    "# show images\n",
    "imshow(torchvision.utils.make_grid(images))\n",
    "\n",
    "# print labels\n",
    "print(' '.join('%5s' % classes_labels[labels[j]] for j in range(5)))"
   ]
  },
  {
   "cell_type": "markdown",
   "metadata": {
    "colab_type": "text",
    "id": "Z_KWXssjHU3L"
   },
   "source": [
    "## モデルの作成  \n",
    "nn.Conv2d\n",
    "入力：形状（バッチサイズ、チャンネル数、縦、横）\n",
    "出力：形状（バッチサイズ、チャンネル数、縦、横）"
   ]
  },
  {
   "cell_type": "code",
   "execution_count": 0,
   "metadata": {
    "colab": {},
    "colab_type": "code",
    "collapsed": true,
    "id": "rhLDv3IO-V9D"
   },
   "outputs": [],
   "source": [
    "# 分類するクラス数(CIFAR-10は10クラスに分類される画像セットであるため)\n",
    "num_classes = 10"
   ]
  },
  {
   "cell_type": "markdown",
   "metadata": {
    "colab_type": "text",
    "id": "45SSSk5OK0jY"
   },
   "source": [
    "torch.nn.functional.conv2d(input, weight, bias=None, stride=1, padding=0, dilation=1, groups=1, padding_mode='zeros') "
   ]
  },
  {
   "cell_type": "code",
   "execution_count": 0,
   "metadata": {
    "colab": {},
    "colab_type": "code",
    "collapsed": true,
    "id": "N6BK4YCPWxaN"
   },
   "outputs": [],
   "source": [
    "class MyNet(nn.Module):\n",
    "\n",
    "    def __init__(self, num_classes):\n",
    "        super(MyNet, self).__init__()\n",
    "        \n",
    "        # 特徴量抽出(畳み込み抽出) \n",
    "        self.features = nn.Sequential(\n",
    "            nn.Conv2d(3, 64, kernel_size=3, stride=1, padding=2),\n",
    "            nn.ReLU(inplace=True),\n",
    "            nn.MaxPool2d(kernel_size=2, stride=2),\n",
    "            nn.Conv2d(64, 192, kernel_size=5, padding=2),\n",
    "            nn.ReLU(inplace=True),\n",
    "            nn.MaxPool2d(kernel_size=2, stride=2),\n",
    "            nn.Conv2d(192, 384, kernel_size=3, padding=1),\n",
    "            nn.ReLU(inplace=True),\n",
    "            nn.Conv2d(384, 256, kernel_size=3, padding=1),\n",
    "            nn.ReLU(inplace=True),\n",
    "            nn.Conv2d(256, 256, kernel_size=3, padding=1),\n",
    "            nn.ReLU(inplace=True),\n",
    "            nn.MaxPool2d(kernel_size=2, stride=2),\n",
    "        )\n",
    "        self.classifier = nn.Linear(4096, num_classes)\n",
    "\n",
    "    # 全結合    \n",
    "    def forward(self, x):\n",
    "        # 特徴量抽出\n",
    "        x = self.features(x)\n",
    "        x = x.view(x.size(0), -1)\n",
    "        x = self.classifier(x)\n",
    "        return x"
   ]
  },
  {
   "cell_type": "markdown",
   "metadata": {
    "colab_type": "text",
    "id": "4HqTR0XX1ban"
   },
   "source": [
    "## 損失関数と最適化アルゴリズムの定義"
   ]
  },
  {
   "cell_type": "code",
   "execution_count": 11,
   "metadata": {
    "colab": {
     "base_uri": "https://localhost:8080/",
     "height": 51
    },
    "colab_type": "code",
    "executionInfo": {
     "elapsed": 16690,
     "status": "ok",
     "timestamp": 1563063718964,
     "user": {
      "displayName": "田淵大将",
      "photoUrl": "https://lh3.googleusercontent.com/-_OwEURBwaMs/AAAAAAAAAAI/AAAAAAABc_Y/a2n0fyFpSjM/s64/photo.jpg",
      "userId": "01937725829077514098"
     },
     "user_tz": -540
    },
    "id": "D1eiHdmYAHIh",
    "outputId": "89a3788b-de4d-44e6-aaf6-3cd18da300e5"
   },
   "outputs": [
    {
     "name": "stdout",
     "output_type": "stream",
     "text": [
      "torch.cuda.is_available(): True\n",
      "device: cuda\n"
     ]
    }
   ],
   "source": [
    "# deviceの選択\n",
    "device = 'cuda' if torch.cuda.is_available() else 'cpu'\n",
    "\n",
    "print('torch.cuda.is_available():', torch.cuda.is_available())\n",
    "print('device:', device)\n",
    "\n",
    "net = MyNet(num_classes).to(device)\n",
    "\n",
    "# 損失関数の定義（クロスエントロピーを使用する）\n",
    "criterion = nn.CrossEntropyLoss()\n",
    "\n",
    "# モデルパラメータの更新手法\n",
    "optimizer = optim.SGD(net.parameters(), lr=0.01, momentum=0.9, weight_decay=5e-4)"
   ]
  },
  {
   "cell_type": "markdown",
   "metadata": {
    "colab_type": "text",
    "id": "7DHy_qt7AEqf"
   },
   "source": [
    "ネットワークを構築後、デバイスの選択、損失関数の定義、モデルパラメータ更新手法を定義した"
   ]
  },
  {
   "cell_type": "code",
   "execution_count": 12,
   "metadata": {
    "colab": {
     "base_uri": "https://localhost:8080/",
     "height": 323
    },
    "colab_type": "code",
    "executionInfo": {
     "elapsed": 16672,
     "status": "ok",
     "timestamp": 1563063718965,
     "user": {
      "displayName": "田淵大将",
      "photoUrl": "https://lh3.googleusercontent.com/-_OwEURBwaMs/AAAAAAAAAAI/AAAAAAABc_Y/a2n0fyFpSjM/s64/photo.jpg",
      "userId": "01937725829077514098"
     },
     "user_tz": -540
    },
    "id": "5h2h1b_XJRc4",
    "outputId": "6362accb-5730-4fac-93e5-69db6f345d43"
   },
   "outputs": [
    {
     "data": {
      "text/plain": [
       "MyNet(\n",
       "  (features): Sequential(\n",
       "    (0): Conv2d(3, 64, kernel_size=(3, 3), stride=(1, 1), padding=(2, 2))\n",
       "    (1): ReLU(inplace)\n",
       "    (2): MaxPool2d(kernel_size=2, stride=2, padding=0, dilation=1, ceil_mode=False)\n",
       "    (3): Conv2d(64, 192, kernel_size=(5, 5), stride=(1, 1), padding=(2, 2))\n",
       "    (4): ReLU(inplace)\n",
       "    (5): MaxPool2d(kernel_size=2, stride=2, padding=0, dilation=1, ceil_mode=False)\n",
       "    (6): Conv2d(192, 384, kernel_size=(3, 3), stride=(1, 1), padding=(1, 1))\n",
       "    (7): ReLU(inplace)\n",
       "    (8): Conv2d(384, 256, kernel_size=(3, 3), stride=(1, 1), padding=(1, 1))\n",
       "    (9): ReLU(inplace)\n",
       "    (10): Conv2d(256, 256, kernel_size=(3, 3), stride=(1, 1), padding=(1, 1))\n",
       "    (11): ReLU(inplace)\n",
       "    (12): MaxPool2d(kernel_size=2, stride=2, padding=0, dilation=1, ceil_mode=False)\n",
       "  )\n",
       "  (classifier): Linear(in_features=4096, out_features=10, bias=True)\n",
       ")"
      ]
     },
     "execution_count": 12,
     "metadata": {
      "tags": []
     },
     "output_type": "execute_result"
    }
   ],
   "source": [
    "# 定義したモデルを表示する\n",
    "net\n"
   ]
  },
  {
   "cell_type": "code",
   "execution_count": 13,
   "metadata": {
    "colab": {
     "base_uri": "https://localhost:8080/",
     "height": 357
    },
    "colab_type": "code",
    "executionInfo": {
     "elapsed": 2013,
     "status": "ok",
     "timestamp": 1563064124690,
     "user": {
      "displayName": "田淵大将",
      "photoUrl": "https://lh3.googleusercontent.com/-_OwEURBwaMs/AAAAAAAAAAI/AAAAAAABc_Y/a2n0fyFpSjM/s64/photo.jpg",
      "userId": "01937725829077514098"
     },
     "user_tz": -540
    },
    "id": "r24kGdZgJUUC",
    "outputId": "de091f26-e734-4766-c6f5-9cca78af6f24"
   },
   "outputs": [
    {
     "name": "stdout",
     "output_type": "stream",
     "text": [
      "Epoch [1/20], Loss: 0.0509, train_acc:0.4019, val_loss: 0.0403, val_acc: 0.5402\n",
      "Epoch [2/20], Loss: 0.0357, train_acc:0.5931, val_loss: 0.0291, val_acc: 0.6712\n",
      "Epoch [3/20], Loss: 0.0287, train_acc:0.6764, val_loss: 0.0249, val_acc: 0.7242\n",
      "Epoch [4/20], Loss: 0.0247, train_acc:0.7239, val_loss: 0.0221, val_acc: 0.7596\n",
      "Epoch [5/20], Loss: 0.0220, train_acc:0.7571, val_loss: 0.0207, val_acc: 0.7730\n",
      "Epoch [6/20], Loss: 0.0200, train_acc:0.7791, val_loss: 0.0202, val_acc: 0.7832\n",
      "Epoch [7/20], Loss: 0.0186, train_acc:0.7954, val_loss: 0.0194, val_acc: 0.7924\n",
      "Epoch [8/20], Loss: 0.0173, train_acc:0.8095, val_loss: 0.0188, val_acc: 0.8062\n",
      "Epoch [9/20], Loss: 0.0163, train_acc:0.8221, val_loss: 0.0188, val_acc: 0.8046\n",
      "Epoch [10/20], Loss: 0.0153, train_acc:0.8319, val_loss: 0.0176, val_acc: 0.8154\n",
      "Epoch [11/20], Loss: 0.0146, train_acc:0.8387, val_loss: 0.0166, val_acc: 0.8325\n",
      "Epoch [12/20], Loss: 0.0139, train_acc:0.8468, val_loss: 0.0172, val_acc: 0.8146\n",
      "Epoch [13/20], Loss: 0.0134, train_acc:0.8526, val_loss: 0.0162, val_acc: 0.8340\n",
      "Epoch [14/20], Loss: 0.0130, train_acc:0.8576, val_loss: 0.0170, val_acc: 0.8219\n",
      "Epoch [15/20], Loss: 0.0126, train_acc:0.8634, val_loss: 0.0149, val_acc: 0.8418\n",
      "Epoch [16/20], Loss: 0.0122, train_acc:0.8656, val_loss: 0.0163, val_acc: 0.8299\n",
      "Epoch [17/20], Loss: 0.0117, train_acc:0.8706, val_loss: 0.0158, val_acc: 0.8377\n",
      "Epoch [18/20], Loss: 0.0114, train_acc:0.8740, val_loss: 0.0155, val_acc: 0.8365\n",
      "Epoch [19/20], Loss: 0.0110, train_acc:0.8803, val_loss: 0.0158, val_acc: 0.8402\n",
      "Epoch [20/20], Loss: 0.0109, train_acc:0.8809, val_loss: 0.0146, val_acc: 0.8468\n"
     ]
    }
   ],
   "source": [
    "num_epochs = 20\n",
    "\n",
    "train_loss_list = []\n",
    "train_acc_list = []\n",
    "val_loss_list = []\n",
    "val_acc_list = []\n",
    "\n",
    "for epoch in range(num_epochs):\n",
    "    train_loss = 0\n",
    "    train_acc = 0\n",
    "    val_loss = 0\n",
    "    val_acc = 0\n",
    "    \n",
    "    #train（訓練）\n",
    "    net.train()\n",
    "    for i, (images, labels) in enumerate(train_loader):\n",
    "      #view()での変換をしない\n",
    "      images, labels = images.to(device), labels.to(device)\n",
    "      \n",
    "      # 前回backwardメソッドで計算された勾配の値を削除\n",
    "      optimizer.zero_grad()\n",
    "      # モデルの出力\n",
    "      outputs = net(images)\n",
    "      # 損失関数 (出力とラベル)\n",
    "      loss = criterion(outputs, labels)\n",
    "      # 損失\n",
    "      train_loss += loss.item()\n",
    "      # 精度の確認\n",
    "      train_acc += (outputs.max(1)[1] == labels).sum().item()\n",
    "      \n",
    "      #if epoch == 0:\n",
    "      #    print('outputs.max(1):', outputs.max(1))\n",
    "      #    print('outputs.max(1)[0]:', outputs.max(1)[0])\n",
    "      #    print('outputs.max(1)[1]:',outputs.max(1)[1])\n",
    "      #    print('label',labels)\n",
    "      \n",
    "      loss.backward()\n",
    "      optimizer.step()\n",
    "    \n",
    "    # 平均（損失と精度）\n",
    "    avg_train_loss = train_loss / len(train_loader.dataset)\n",
    "    avg_train_acc = train_acc / len(train_loader.dataset)\n",
    "    \n",
    "    \n",
    "    #validation (テストデータでの確認)\n",
    "    net.eval()\n",
    "    with torch.no_grad():\n",
    "      for images, labels in test_loader:\n",
    "        #view()での変換をしない\n",
    "        images = images.to(device)\n",
    "        labels = labels.to(device)\n",
    "        outputs = net(images)\n",
    "        loss = criterion(outputs, labels)\n",
    "        val_loss += loss.item()\n",
    "        val_acc += (outputs.max(1)[1] == labels).sum().item()\n",
    "    \n",
    "    # 平均（損失と精度）\n",
    "    avg_val_loss = val_loss / len(test_loader.dataset)\n",
    "    avg_val_acc = val_acc / len(test_loader.dataset)\n",
    "    \n",
    "    # 平均の訓練データの損失(loss)とテストデータの損失(val_loss)、テストデータの分類精度\n",
    "    print ('Epoch [{}/{}], Loss: {loss:.4f}, train_acc:{train_acc:.4f}, val_loss: {val_loss:.4f}, val_acc: {val_acc:.4f}' .format(epoch+1, num_epochs, i+1, loss=avg_train_loss, train_acc=avg_train_acc, val_loss=avg_val_loss, val_acc=avg_val_acc))\n",
    "    \n",
    "    # 各Epochのそれぞれの値をリストに追加（学習の履歴記録、グラフ作成用）\n",
    "    train_loss_list.append(avg_train_loss)\n",
    "    train_acc_list.append(avg_train_acc)\n",
    "    val_loss_list.append(avg_val_loss)\n",
    "    val_acc_list.append(avg_val_acc)"
   ]
  },
  {
   "cell_type": "code",
   "execution_count": 14,
   "metadata": {
    "colab": {
     "base_uri": "https://localhost:8080/",
     "height": 295
    },
    "colab_type": "code",
    "executionInfo": {
     "elapsed": 1098,
     "status": "ok",
     "timestamp": 1563064125782,
     "user": {
      "displayName": "田淵大将",
      "photoUrl": "https://lh3.googleusercontent.com/-_OwEURBwaMs/AAAAAAAAAAI/AAAAAAABc_Y/a2n0fyFpSjM/s64/photo.jpg",
      "userId": "01937725829077514098"
     },
     "user_tz": -540
    },
    "id": "4dhYtMvZeHNR",
    "outputId": "3bbd01ed-06ad-4b2c-80fc-54278948aa8b"
   },
   "outputs": [
    {
     "data": {
      "image/png": "[encoded data removed]",
      "text/plain": [
       "<Figure size 432x288 with 1 Axes>"
      ]
     },
     "metadata": {
      "tags": []
     },
     "output_type": "display_data"
    }
   ],
   "source": [
    "# グラフの描画\n",
    "import matplotlib.pyplot as plt\n",
    "%matplotlib inline\n",
    "\n",
    "# 学習時の損失\n",
    "plt.figure()\n",
    "# 訓練データを使った損失をプロット（青の実線）\n",
    "plt.plot(range(num_epochs), train_loss_list, color='blue', linestyle='-', label='train_loss')\n",
    "# 訓練データを使った損失をプロット（緑の点線）\n",
    "plt.plot(range(num_epochs), val_loss_list, color='green', linestyle='--', label='val_loss')\n",
    "plt.legend()\n",
    "plt.xlabel('epoch')\n",
    "plt.ylabel('loss')\n",
    "plt.title('Training and validation loss')\n",
    "plt.grid()"
   ]
  },
  {
   "cell_type": "code",
   "execution_count": 15,
   "metadata": {
    "colab": {
     "base_uri": "https://localhost:8080/",
     "height": 295
    },
    "colab_type": "code",
    "executionInfo": {
     "elapsed": 26,
     "status": "ok",
     "timestamp": 1563064125784,
     "user": {
      "displayName": "田淵大将",
      "photoUrl": "https://lh3.googleusercontent.com/-_OwEURBwaMs/AAAAAAAAAAI/AAAAAAABc_Y/a2n0fyFpSjM/s64/photo.jpg",
      "userId": "01937725829077514098"
     },
     "user_tz": -540
    },
    "id": "IusxRYNFFRJX",
    "outputId": "061eff9d-f41c-4135-f376-4c00ae00195d"
   },
   "outputs": [
    {
     "data": {
      "image/png": "[encoded data removed]",
      "text/plain": [
       "<Figure size 432x288 with 1 Axes>"
      ]
     },
     "metadata": {
      "tags": []
     },
     "output_type": "display_data"
    }
   ],
   "source": [
    "# 学習時の精度\n",
    "plt.figure()\n",
    "plt.plot(range(num_epochs), train_acc_list, color='blue', linestyle='-', label='train_acc')\n",
    "plt.plot(range(num_epochs), val_acc_list, color='green', linestyle='--', label='val_acc')\n",
    "plt.legend()\n",
    "plt.xlabel('epoch')\n",
    "plt.ylabel('acc')\n",
    "plt.title('Training and validation accuracy')\n",
    "plt.grid()"
   ]
  }
 ],
 "metadata": {
  "accelerator": "GPU",
  "colab": {
   "collapsed_sections": [],
   "name": "K18_レポート_CIFAR-10分類_sse02-06_田淵大将.ipynb",
   "provenance": [
    {
     "file_id": "1iCmfXDVmNK9i5fieqH4ieexHvcpmWKpQ",
     "timestamp": 1562732408804
    }
   ],
   "version": "0.3.2"
  },
  "kernelspec": {
   "display_name": "Python 3",
   "language": "python",
   "name": "python3"
  },
  "language_info": {
   "codemirror_mode": {
    "name": "ipython",
    "version": 3
   },
   "file_extension": ".py",
   "mimetype": "text/x-python",
   "name": "python",
   "nbconvert_exporter": "python",
   "pygments_lexer": "ipython3",
   "version": "3.6.8"
  }
 },
 "nbformat": 4,
 "nbformat_minor": 1
}
